{
 "cells": [
  {
   "cell_type": "code",
   "execution_count": 137,
   "metadata": {
    "collapsed": true
   },
   "outputs": [],
   "source": [
    "import numpy as np\n",
    "import tensorflow as tf\n",
    "import random\n",
    "\n",
    "import matplotlib.pyplot as plt\n",
    "from mpl_toolkits.mplot3d import Axes3D\n",
    "%matplotlib inline"
   ]
  },
  {
   "cell_type": "code",
   "execution_count": 145,
   "metadata": {
    "collapsed": false
   },
   "outputs": [],
   "source": [
    "train_dataset = np.array([[0,0],[0,1],[1,0],[1,1]]).astype(np.float32)\n",
    "train_labels = np.array([[0],[1],[1],[0]]).astype(np.float32)"
   ]
  },
  {
   "cell_type": "code",
   "execution_count": 148,
   "metadata": {
    "collapsed": false
   },
   "outputs": [],
   "source": [
    "batch_size = 2\n",
    "\n",
    "def tf_prediction(X,W1,b1,W2,b2):\n",
    "    h = tf.nn.relu(tf.matmul(X,W1) + b1)\n",
    "    return tf.matmul(h,W2) + b2\n",
    "\n",
    "graph = tf.Graph()\n",
    "with graph.as_default():\n",
    "    X = tf.placeholder(tf.float32, shape=[batch_size,2])\n",
    "    y = tf.placeholder(tf.float32, shape=[batch_size,1])\n",
    "\n",
    "    W1 = tf.Variable(tf.random_uniform([2,2], -1.0, 1.0))\n",
    "    # W1 = tf.Variable([[1.0,0.0],[0.0,1.0]])\n",
    "    b1 = tf.Variable(tf.zeros([2]))\n",
    "\n",
    "    W2 = tf.Variable(tf.random_uniform([2,1], -1.0, 1.0))\n",
    "    # W2 = tf.Variable([[1.0],[0.0]])\n",
    "    b2 = tf.Variable(tf.zeros([1]))\n",
    "    \n",
    "    y_predict = tf_prediction(X,W1,b1,W2,b2)\n",
    "\n",
    "    # Minimize the mean squared errors\n",
    "    loss = tf.reduce_mean(tf.square(y_predict - y))\n",
    "    optimizer = tf.train.GradientDescentOptimizer(0.1).minimize(loss)\n",
    "\n",
    "    train_prediction = tf_prediction(train_dataset, W1, b1, W2, b2)"
   ]
  },
  {
   "cell_type": "code",
   "execution_count": 149,
   "metadata": {
    "collapsed": false
   },
   "outputs": [
    {
     "name": "stdout",
     "output_type": "stream",
     "text": [
      "Loss at step 0: 0.183603 \n",
      "Loss at step 100: 0.247708 \n",
      "Loss at step 200: 0.002598 \n",
      "Loss at step 300: 0.000007 \n",
      "Loss at step 400: 0.000000 \n",
      "Loss at step 500: 0.000000 \n",
      "Loss at step 600: 0.000000 \n",
      "Loss at step 700: 0.000000 \n",
      "Loss at step 800: 0.000000 \n",
      "Loss at step 900: 0.000000 \n",
      "Loss at step 1000: 0.000000 \n",
      "Final predictions:\n",
      "[[  3.49280924e-07]\n",
      " [  9.99999881e-01]\n",
      " [  9.99999881e-01]\n",
      " [  2.95222549e-07]]\n"
     ]
    }
   ],
   "source": [
    "current_index = 0\n",
    "\n",
    "with tf.Session(graph=graph) as sess:\n",
    "    sess.run(tf.initialize_all_variables())\n",
    "    \n",
    "    init_weights1, init_biases1, init_weights2, init_biases2 = sess.run([W1, b1, W2, b2]) \n",
    "\n",
    "    for step in range(1001):\n",
    "        # generate next batch\n",
    "        current_index += 1\n",
    "        if current_index > 4 - batch_size:\n",
    "            current_index = 0\n",
    "        current_to = current_from + batch_size   \n",
    "    \n",
    "        batch_X = train_dataset[current_index:current_index+batch_size]\n",
    "        batch_y = train_labels[current_index:current_index+batch_size]\n",
    "        \n",
    "        # randomly pick samples from train_dataset\n",
    "        # samples_index = random.sample([0,1,2,3],batch_size)\n",
    "        # batch_X = train_dataset[samples_index]\n",
    "        # batch_y = train_labels[samples_index]\n",
    "        \n",
    "        feed_dict = {X : batch_X, y : batch_y}\n",
    "\n",
    "        _, l, predictions, weights1, biases1, weights2, biases2 = sess.run([optimizer, loss, train_prediction, W1, b1, W2, b2], feed_dict=feed_dict)\n",
    "\n",
    "        if step % 100 == 0:\n",
    "            print('Loss at step %d: %f ' % (step,l))\n",
    "\n",
    "print(\"Final predictions:\")\n",
    "print(predictions)\n"
   ]
  },
  {
   "cell_type": "code",
   "execution_count": null,
   "metadata": {
    "collapsed": true
   },
   "outputs": [],
   "source": []
  }
 ],
 "metadata": {
  "kernelspec": {
   "display_name": "Python 3",
   "language": "python",
   "name": "python3"
  },
  "language_info": {
   "codemirror_mode": {
    "name": "ipython",
    "version": 3
   },
   "file_extension": ".py",
   "mimetype": "text/x-python",
   "name": "python",
   "nbconvert_exporter": "python",
   "pygments_lexer": "ipython3",
   "version": "3.5.1"
  }
 },
 "nbformat": 4,
 "nbformat_minor": 0
}
